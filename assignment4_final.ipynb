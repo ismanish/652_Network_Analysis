{
 "cells": [
  {
   "cell_type": "markdown",
   "metadata": {},
   "source": [
    "# Assignment 4\n",
    "### Last updated: April 25, 2022"
   ]
  },
  {
   "cell_type": "markdown",
   "metadata": {},
   "source": [
    "### Name: your_name\n",
    "\n",
    "### Uniqname: your_uniqname\n",
    "\n",
    "## Instructions\n",
    "\n",
    "Please turn in:\n",
    "1. A Jupyter Notebook file. This file should show all of the required work, including code, results, visualizations (if any), and necessary comments to your code. Irrelevant code and results should be deleted prior to submission.\n",
    "\n",
    "2. An html file showing the preview of the Notebook. To create this file, select File -> Download as > HTML. \n",
    "\n",
    "### Before submitting, please select Kernel -> Restart & Run All."
   ]
  },
  {
   "cell_type": "code",
   "execution_count": 1,
   "metadata": {
    "deletable": false,
    "editable": false,
    "nbgrader": {
     "cell_type": "code",
     "checksum": "812fe6beea9ebcd146e403c382434578",
     "grade": false,
     "grade_id": "cell-cbb762bbf6158a49",
     "locked": true,
     "schema_version": 3,
     "solution": false
    }
   },
   "outputs": [],
   "source": [
    "import re\n",
    "import time\n",
    "import pickle\n",
    "\n",
    "from networkx.drawing.nx_pydot import graphviz_layout\n",
    "from networkx.algorithms import community\n",
    "from networkx.algorithms.community import modularity\n",
    "import networkx as nx\n",
    "\n",
    "import pandas as pd\n",
    "import numpy as np\n",
    "\n",
    "import matplotlib.pyplot as plt\n",
    "#import seaborn as sns\n",
    "%matplotlib inline"
   ]
  },
  {
   "cell_type": "markdown",
   "metadata": {
    "deletable": false,
    "editable": false,
    "nbgrader": {
     "cell_type": "markdown",
     "checksum": "c750f772fe4c175de2abaed1d4598df0",
     "grade": false,
     "grade_id": "cell-bd9a395226f37983",
     "locked": true,
     "schema_version": 3,
     "solution": false
    }
   },
   "source": [
    "## <font color='red'>Important</font>\n",
    "\n",
    "<font color='red' size=2>Please **AVOID** using `community` and `modularity` as your variable names. These are imported as preserved names for networkx submodules. Changing their representations would result in autograder failuers.</font>"
   ]
  },
  {
   "cell_type": "code",
   "execution_count": 2,
   "metadata": {
    "deletable": false,
    "editable": false,
    "nbgrader": {
     "cell_type": "code",
     "checksum": "0b71f287201e1b965acec515da08072d",
     "grade": false,
     "grade_id": "cell-a153a9e069d2ebc9",
     "locked": true,
     "schema_version": 3,
     "solution": false
    }
   },
   "outputs": [],
   "source": [
    "# disable warnings\n",
    "import warnings\n",
    "warnings.filterwarnings('ignore')"
   ]
  },
  {
   "cell_type": "markdown",
   "metadata": {
    "deletable": false,
    "editable": false,
    "nbgrader": {
     "cell_type": "markdown",
     "checksum": "3326eb93830cdea1921cfa2fe3004ca6",
     "grade": false,
     "grade_id": "cell-3ffd78762d33a575",
     "locked": true,
     "schema_version": 3,
     "solution": false
    }
   },
   "source": [
    "## Part 1. Wikipedia Network with Communities"
   ]
  },
  {
   "cell_type": "markdown",
   "metadata": {
    "deletable": false,
    "editable": false,
    "nbgrader": {
     "cell_type": "markdown",
     "checksum": "5ba84c4781e22b42f067b97314641bb6",
     "grade": false,
     "grade_id": "cell-e47cb3e7eeae8502",
     "locked": true,
     "schema_version": 3,
     "solution": false
    }
   },
   "source": [
    "## Data description\n",
    "\n",
    "In this assignment, we are going to analyze the community structure of a network. We will use a Wikipedia based [Map of Science](https://figshare.com/articles/A_Wikipedia_Based_Map_of_Science/11638932) network for our exploration. In this network, each node represents a Wikipedia page in a domain of science, such as natural science or social science. An edge exists between two nodes if the cosine similarity of their page contents reaches a pre-defined threshold."
   ]
  },
  {
   "cell_type": "code",
   "execution_count": 3,
   "metadata": {
    "deletable": false,
    "editable": false,
    "nbgrader": {
     "cell_type": "code",
     "checksum": "2ea3bbfb454fb0ab6a56a3f3ce57e657",
     "grade": false,
     "grade_id": "cell-73a6af20dfcfa965",
     "locked": true,
     "schema_version": 3,
     "solution": false
    }
   },
   "outputs": [],
   "source": [
    "G = nx.read_gml('assets/MapOfScience.gml', label='id')"
   ]
  },
  {
   "cell_type": "markdown",
   "metadata": {
    "deletable": false,
    "editable": false,
    "nbgrader": {
     "cell_type": "markdown",
     "checksum": "c1109f6be5477c535e1bc6277cc6ad54",
     "grade": false,
     "grade_id": "cell-5ed018278efe2e27",
     "locked": true,
     "schema_version": 3,
     "solution": false
    }
   },
   "source": [
    "Each node in the graph contains the attributes:\n",
    "- \"name:\" the title of the article \n",
    "- \"Class\" the science domain \n",
    "- \"WikipediaUrl:\" the Wikipedia URL \n",
    "\n",
    "Let's look at some examples: "
   ]
  },
  {
   "cell_type": "code",
   "execution_count": 4,
   "metadata": {
    "deletable": false,
    "editable": false,
    "nbgrader": {
     "cell_type": "code",
     "checksum": "8519f4bde34eccd3ad7fd3cd0dfdf93b",
     "grade": false,
     "grade_id": "cell-c03f2a02455bb3bf",
     "locked": true,
     "schema_version": 3,
     "solution": false
    }
   },
   "outputs": [
    {
     "data": {
      "text/plain": [
       "[(0,\n",
       "  {'label': '0',\n",
       "   'name': 'Accounting',\n",
       "   'Class': 'Applied',\n",
       "   'WikipediaUrl': 'https://en.wikipedia.org/wiki/Accounting'}),\n",
       " (1,\n",
       "  {'label': '1',\n",
       "   'name': 'Aerospace engineering',\n",
       "   'Class': 'Applied',\n",
       "   'WikipediaUrl': 'https://en.wikipedia.org/wiki/Aerospace_engineering'}),\n",
       " (2,\n",
       "  {'label': '2',\n",
       "   'name': 'Agricultural engineering',\n",
       "   'Class': 'Applied',\n",
       "   'WikipediaUrl': 'https://en.wikipedia.org/wiki/Agricultural_engineering'}),\n",
       " (3,\n",
       "  {'label': '3',\n",
       "   'name': 'Agricultural science',\n",
       "   'Class': 'Applied',\n",
       "   'WikipediaUrl': 'https://en.wikipedia.org/wiki/Agricultural_science'}),\n",
       " (4,\n",
       "  {'label': '4',\n",
       "   'name': 'Agronomy',\n",
       "   'Class': 'Applied',\n",
       "   'WikipediaUrl': 'https://en.wikipedia.org/wiki/Agronomy'})]"
      ]
     },
     "execution_count": 4,
     "metadata": {},
     "output_type": "execute_result"
    }
   ],
   "source": [
    "list(G.nodes(data=True))[0:5]"
   ]
  },
  {
   "cell_type": "markdown",
   "metadata": {
    "deletable": false,
    "editable": false,
    "nbgrader": {
     "cell_type": "markdown",
     "checksum": "bba19fe6c2c058d816f19a6d56b3023c",
     "grade": false,
     "grade_id": "cell-ee6a059bdb97205e",
     "locked": true,
     "schema_version": 3,
     "solution": false
    }
   },
   "source": [
    "The edges contain the cosine similarity of the text of the two articles："
   ]
  },
  {
   "cell_type": "code",
   "execution_count": 5,
   "metadata": {
    "deletable": false,
    "editable": false,
    "nbgrader": {
     "cell_type": "code",
     "checksum": "5c5f51ef3f2006b40600ab4c98cb34c7",
     "grade": false,
     "grade_id": "cell-2cb8b84411fee838",
     "locked": true,
     "schema_version": 3,
     "solution": false
    }
   },
   "outputs": [
    {
     "data": {
      "text/plain": [
       "[(0, 21, {'CosineSimilarity': 0.369447477753246}),\n",
       " (0, 50, {'CosineSimilarity': 0.395432741205435}),\n",
       " (0, 70, {'CosineSimilarity': 0.388758063740006}),\n",
       " (0, 88, {'CosineSimilarity': 0.371542879166867}),\n",
       " (0, 516, {'CosineSimilarity': 0.365688238862527})]"
      ]
     },
     "execution_count": 5,
     "metadata": {},
     "output_type": "execute_result"
    }
   ],
   "source": [
    "list(G.edges(data=True))[0:5]"
   ]
  },
  {
   "cell_type": "markdown",
   "metadata": {
    "deletable": false,
    "editable": false,
    "nbgrader": {
     "cell_type": "markdown",
     "checksum": "efec288d4debdf7d08191e6b930f3aa5",
     "grade": false,
     "grade_id": "cell-25a3c079a4f2c1f1",
     "locked": true,
     "schema_version": 3,
     "solution": false
    }
   },
   "source": [
    "### Q1. (1 point, Autograded) Let's extract the largest connected component from the above graph. In the following questions, we will focus our analysis on this sub-graph. How many nodes are there in this new network?"
   ]
  },
  {
   "cell_type": "code",
   "execution_count": 6,
   "metadata": {
    "deletable": false,
    "nbgrader": {
     "cell_type": "code",
     "checksum": "c38e8e8c0e4d7cda66bc69f807ad88b9",
     "grade": false,
     "grade_id": "cell-1b6842675838d7ac",
     "locked": false,
     "schema_version": 3,
     "solution": true
    }
   },
   "outputs": [],
   "source": [
    "# Extract the largest connected component of the original dataset\n",
    "G = G.subgraph(max(nx.connected_components(G), key=len))\n",
    "N = None  # stores the number of nodes in this graph\n",
    "\n",
    "# YOUR CODE HERE\n",
    "N = len(G.nodes())\n",
    "# raise NotImplementedError()"
   ]
  },
  {
   "cell_type": "code",
   "execution_count": 7,
   "metadata": {
    "deletable": false,
    "editable": false,
    "nbgrader": {
     "cell_type": "code",
     "checksum": "1f01e15c0bbd400e3c391719426a7dd7",
     "grade": true,
     "grade_id": "cell-0cc698bddd1e3d1e",
     "locked": true,
     "points": 1,
     "schema_version": 3,
     "solution": false
    }
   },
   "outputs": [],
   "source": [
    "#hidden tests for Question 1 are within this cell"
   ]
  },
  {
   "cell_type": "markdown",
   "metadata": {
    "deletable": false,
    "editable": false,
    "nbgrader": {
     "cell_type": "markdown",
     "checksum": "f18dd306bf11926d3b6deed4a13068ae",
     "grade": false,
     "grade_id": "cell-854257bfff9229b8",
     "locked": true,
     "schema_version": 3,
     "solution": false
    }
   },
   "source": [
    "### Q2. (2 points, Autograded) If we think of science domains as communities, how many communities are there in the network and what are their Classes?"
   ]
  },
  {
   "cell_type": "code",
   "execution_count": 8,
   "metadata": {
    "deletable": false,
    "nbgrader": {
     "cell_type": "code",
     "checksum": "5975e74c2506844784f716498bf6291b",
     "grade": false,
     "grade_id": "cell-d3ff05cbf4b9676b",
     "locked": false,
     "schema_version": 3,
     "solution": true
    }
   },
   "outputs": [],
   "source": [
    "list_of_communities = set() # set of unique community labels\n",
    "N = None           # number of communities in total\n",
    "\n",
    "# YOUR CODE HERE\n",
    "# Create a set of unique community labels\n",
    "list_of_communities = set([data['Class'] for node, data in G.nodes(data=True)])\n",
    "\n",
    "# Find the total number of communities\n",
    "N = len(list_of_communities)\n",
    "# raise NotImplementedError()"
   ]
  },
  {
   "cell_type": "code",
   "execution_count": 9,
   "metadata": {
    "deletable": false,
    "editable": false,
    "nbgrader": {
     "cell_type": "code",
     "checksum": "ac01050deb4596027b11c6dd2ca6cbd7",
     "grade": true,
     "grade_id": "cell-5f93323b10c08ea8",
     "locked": true,
     "points": 2,
     "schema_version": 3,
     "solution": false
    }
   },
   "outputs": [],
   "source": [
    "#hidden tests for Question 2 are within this cell"
   ]
  },
  {
   "cell_type": "markdown",
   "metadata": {
    "deletable": false,
    "editable": false,
    "nbgrader": {
     "cell_type": "markdown",
     "checksum": "615de2fec51ae5a4566f37120a164d11",
     "grade": false,
     "grade_id": "cell-2610662db639d85c",
     "locked": true,
     "schema_version": 3,
     "solution": false
    }
   },
   "source": [
    "### Q3. (4 points, Autograded) How many nodes does each community have?\n",
    "\n",
    "Hint: you may want to use the [`Counter`](https://docs.python.org/2/library/collections.html#counter-objects) object for this question."
   ]
  },
  {
   "cell_type": "code",
   "execution_count": 10,
   "metadata": {
    "deletable": false,
    "nbgrader": {
     "cell_type": "code",
     "checksum": "b55bdbc00821c7b45be39c49ca938b5e",
     "grade": false,
     "grade_id": "cell-09fdbc86fa20dfd4",
     "locked": false,
     "schema_version": 3,
     "solution": true
    }
   },
   "outputs": [],
   "source": [
    "from collections import Counter\n",
    "dict_num_community = None   # a Counter object with the format {community_name: number_of_nodes}\n",
    "\n",
    "# YOUR CODE HERE\n",
    "community_list = [data['Class'] for node, data in G.nodes(data=True)]\n",
    "# Use Counter to count the number of nodes in each community\n",
    "dict_num_community = Counter(community_list)\n",
    "# raise NotImplementedError()"
   ]
  },
  {
   "cell_type": "code",
   "execution_count": 11,
   "metadata": {
    "deletable": false,
    "editable": false,
    "nbgrader": {
     "cell_type": "code",
     "checksum": "44c00ea49385e053a6caabfc165d3ec5",
     "grade": true,
     "grade_id": "cell-9511c2d056da75f8",
     "locked": true,
     "points": 4,
     "schema_version": 3,
     "solution": false
    }
   },
   "outputs": [],
   "source": [
    "#hidden tests for Question 3 are within this cell"
   ]
  },
  {
   "cell_type": "markdown",
   "metadata": {
    "deletable": false,
    "editable": false,
    "nbgrader": {
     "cell_type": "markdown",
     "checksum": "bbd4a6d337b69a20c93e14b44d9b0b94",
     "grade": false,
     "grade_id": "cell-048b60c63409d020",
     "locked": true,
     "schema_version": 3,
     "solution": false
    }
   },
   "source": [
    "## Part 2. Measures of Partition Quality\n",
    "\n",
    "We discussed 5 ways to measure the quality of a partition: modularity, coverage, performance, separability, and density. \n",
    "\n",
    "Modularity, coverage, and performance can be measured using `networkx` functions in the `algorithms.community` module. You can check all the functions provided by a module with the built-in `dir()` function:\n",
    "\n",
    "```python\n",
    "from networkx.algorithms import community\n",
    "dir(community)\n",
    ">>> ...\n",
    " 'coverage',\n",
    " 'modularity',\n",
    " 'performance',\n",
    "```\n",
    "\n",
    "Descriptions of the three measures are provided in the source code,\n",
    "\n",
    "1. `networkx.algorithms.community.modularity(G, communities, weight='weight')`\n",
    "\n",
    "2. [`networkx.algorithms.community.quality.coverage(G, partition)`](https://networkx.github.io/documentation/stable/reference/algorithms/generated/networkx.algorithms.community.quality.coverage.html#networkx.algorithms.community.quality.coverage)\n",
    "\n",
    "3. [`networkx.algorithms.community.quality.performance(G, partition)`](https://networkx.github.io/documentation/stable/reference/algorithms/generated/networkx.algorithms.community.quality.performance.html#networkx.algorithms.community.quality.performance)\n",
    "\n",
    "\n",
    "\n"
   ]
  },
  {
   "cell_type": "markdown",
   "metadata": {
    "deletable": false,
    "editable": false,
    "nbgrader": {
     "cell_type": "markdown",
     "checksum": "7b5596c9a838066cb554470f76032e15",
     "grade": false,
     "grade_id": "cell-f08daf1d92f00ad2",
     "locked": true,
     "schema_version": 3,
     "solution": false
    }
   },
   "source": [
    "For separability and density, you will implement your own functions. \n",
    "\n",
    "Since separability and density first apply a measure to each community and then takes the average over all communities, we provide a helper function `avg_measure(G, communities, measure)` that computes the average value for a given measure over all communities in a graph:"
   ]
  },
  {
   "cell_type": "code",
   "execution_count": 12,
   "metadata": {
    "deletable": false,
    "editable": false,
    "nbgrader": {
     "cell_type": "code",
     "checksum": "e36624198c914a4e1284e1eb39e48f23",
     "grade": false,
     "grade_id": "cell-b55f3e4297624eeb",
     "locked": true,
     "schema_version": 3,
     "solution": false
    }
   },
   "outputs": [],
   "source": [
    "def avg_measure(G, communities, measure):\n",
    "    \"\"\"\n",
    "    Calculate the average value of a given measure across communities in a graph.\n",
    "    \n",
    "    Args:\n",
    "        G - nx graph object; a graph to operate upon.\n",
    "        communities - list; a collection of sets of nodes that each comprise a community.\n",
    "        measure - function; calculates a measure for a community in a graph.\n",
    "    \n",
    "    Returns:\n",
    "        (unnamed) - float; the calculated average measure.\n",
    "    \"\"\"\n",
    "    sum_ = 0\n",
    "    for comm in communities:\n",
    "        sum_ += measure(G, comm)\n",
    "    return sum_ / len(communities)"
   ]
  },
  {
   "cell_type": "markdown",
   "metadata": {
    "deletable": false,
    "editable": false,
    "nbgrader": {
     "cell_type": "markdown",
     "checksum": "55caf3361c3158a059a22c8e0aaa1869",
     "grade": false,
     "grade_id": "cell-a17d794bcf715f28",
     "locked": true,
     "schema_version": 3,
     "solution": false
    }
   },
   "source": [
    "### Q4. (10 points, Autograded) Let's begin implementing the function to measure the separability for a single community. That is, measure the ratio of intra-community to inter-community edges. \n",
    "\n",
    "If there are 0 inter-community edges, the function should assume that the actual number is 1, making the separability value equal to the number of intra-community edges. \n",
    "\n",
    "Hint: `G.edges(community)`, where `community` is a set of nodes, returns the edges that are incident to at least one node in `community`. That is, it returns the edges that have at least one endpoint in `community`. "
   ]
  },
  {
   "cell_type": "code",
   "execution_count": 13,
   "metadata": {
    "deletable": false,
    "nbgrader": {
     "cell_type": "code",
     "checksum": "39ccdeebf2ad5d1ec3408e86c9a3f681",
     "grade": false,
     "grade_id": "cell-aed0aa4c64d6d1b9",
     "locked": false,
     "schema_version": 3,
     "solution": true
    }
   },
   "outputs": [],
   "source": [
    "def separability_one_community(G, community):\n",
    "    \"\"\"\n",
    "    Calculate the separability of a community by finding the ratio of\n",
    "    intra-community edges to inter-community edges.\n",
    "    \n",
    "    Args:\n",
    "        G - nx graph object; a graph to operate upon.\n",
    "        community - set; a collection of nodes that comprise a community.\n",
    "    \n",
    "    Returns:\n",
    "        result - float; the separability in a given community.\n",
    "    \"\"\"\n",
    "    # Create a subgraph for the community\n",
    "    subgraph = G.subgraph(community)\n",
    "    # Count the intra-community edges\n",
    "    intra_edges = subgraph.number_of_edges()\n",
    "    # Count the inter-community edges\n",
    "    inter_edges = len(G.edges(community)) - intra_edges\n",
    "    # Calculate separability\n",
    "    result = intra_edges / (inter_edges if inter_edges > 0 else 1)\n",
    "#     result = None # assign separability to it and return\n",
    "    return result\n",
    "    \n",
    "\n",
    "# YOUR CODE HERE\n",
    "# raise NotImplementedError()"
   ]
  },
  {
   "cell_type": "code",
   "execution_count": 14,
   "metadata": {
    "deletable": false,
    "editable": false,
    "nbgrader": {
     "cell_type": "code",
     "checksum": "a2e38c5721963da1d4bc7e41269fe5b9",
     "grade": true,
     "grade_id": "cell-62195a623ab0cc20",
     "locked": true,
     "points": 10,
     "schema_version": 3,
     "solution": false
    }
   },
   "outputs": [],
   "source": [
    "#hidden tests for Question 4 are within this cell"
   ]
  },
  {
   "cell_type": "markdown",
   "metadata": {
    "deletable": false,
    "editable": false,
    "nbgrader": {
     "cell_type": "markdown",
     "checksum": "88ccd20934cc6c5894ece9ab23ffc87a",
     "grade": false,
     "grade_id": "cell-4a468d697f83b86f",
     "locked": true,
     "schema_version": 3,
     "solution": false
    }
   },
   "source": [
    "Now we can simply use `avg_measure(G, communities, separability_one_community)` to measure the separability of a partition. "
   ]
  },
  {
   "cell_type": "markdown",
   "metadata": {
    "deletable": false,
    "editable": false,
    "nbgrader": {
     "cell_type": "markdown",
     "checksum": "423c323e13c8cc9df2e9b518af32b1c0",
     "grade": false,
     "grade_id": "cell-cc321d8b6eb45cfa",
     "locked": true,
     "schema_version": 3,
     "solution": false
    }
   },
   "source": [
    "### Q5. (10 points, Autograded) Let's now implement the function to measure the density of a single community. That is, the fraction of intra-community edges out of all possible edges. "
   ]
  },
  {
   "cell_type": "code",
   "execution_count": 15,
   "metadata": {
    "deletable": false,
    "nbgrader": {
     "cell_type": "code",
     "checksum": "9260570d8f831e18df093ef35cc16581",
     "grade": false,
     "grade_id": "cell-9625f434a453c682",
     "locked": false,
     "schema_version": 3,
     "solution": true
    }
   },
   "outputs": [],
   "source": [
    "def density_one_community(G, community):\n",
    "    \"\"\"\n",
    "    Calculate the density of a community by finding the fraction of\n",
    "    intra-community edges out of all possible edges.\n",
    "    \n",
    "    Args:\n",
    "        G - nx graph object; a graph to operate upon.\n",
    "        community - set; a collection of nodes that comprise a community.\n",
    "    \n",
    "    Returns:\n",
    "        result - float; the density of a given community.\n",
    "    \"\"\"\n",
    "    \n",
    "    result = None # assign density to it and return    \n",
    "    \n",
    "    if len(community) == 1:  # If the community has only one node, just return 1 \n",
    "        return 1\n",
    "    # YOUR CODE HERE\n",
    "    # Create a subgraph for the community\n",
    "    subgraph = G.subgraph(community)\n",
    "    # Count the intra-community edges\n",
    "    intra_edges = subgraph.number_of_edges()\n",
    "    # Calculate the total possible edges\n",
    "    total_possible_edges = len(community)*(len(community)-1) / 2\n",
    "    # Calculate density\n",
    "    result = intra_edges / total_possible_edges\n",
    "#     raise NotImplementedError()\n",
    "    return result"
   ]
  },
  {
   "cell_type": "code",
   "execution_count": 16,
   "metadata": {
    "deletable": false,
    "editable": false,
    "nbgrader": {
     "cell_type": "code",
     "checksum": "ebabcfa3dc7a91d4e731cfd3188e1e58",
     "grade": true,
     "grade_id": "cell-414758ad39282a47",
     "locked": true,
     "points": 10,
     "schema_version": 3,
     "solution": false
    }
   },
   "outputs": [],
   "source": [
    "#hidden tests for Question 5 are within this cell"
   ]
  },
  {
   "cell_type": "markdown",
   "metadata": {
    "deletable": false,
    "editable": false,
    "nbgrader": {
     "cell_type": "markdown",
     "checksum": "c34b7b513544b2586fd54796f3525142",
     "grade": false,
     "grade_id": "cell-25f04374a0e0c54b",
     "locked": true,
     "schema_version": 3,
     "solution": false
    }
   },
   "source": [
    "Now we can simply use `avg_measure(G, communities, density_one_community)` to measure the density of a partition. "
   ]
  },
  {
   "cell_type": "markdown",
   "metadata": {
    "deletable": false,
    "editable": false,
    "nbgrader": {
     "cell_type": "markdown",
     "checksum": "90c9eae8ce56abc70099807c453a7072",
     "grade": false,
     "grade_id": "cell-95d850943ebe0453",
     "locked": true,
     "schema_version": 3,
     "solution": false
    }
   },
   "source": [
    "### Q6. (5 points, Autograded) What is the modularity, coverage, performance, density, and separability of this network using the science domain as a partition?"
   ]
  },
  {
   "cell_type": "code",
   "execution_count": 17,
   "metadata": {
    "deletable": false,
    "nbgrader": {
     "cell_type": "code",
     "checksum": "ec893dbc0667401d47ec3737ba56ae2f",
     "grade": false,
     "grade_id": "cell-3609557357c7e27e",
     "locked": false,
     "schema_version": 3,
     "solution": true
    }
   },
   "outputs": [],
   "source": [
    "mod = None   # modularity\n",
    "cov = None   # coverage\n",
    "perf = None  # performance\n",
    "den = None # density\n",
    "sep = None # separability\n",
    "\n",
    "# YOUR CODE HERE\n",
    "from collections import defaultdict\n",
    "from networkx.algorithms.community import quality\n",
    "# Create a dictionary where keys are classes (science domains) and values are sets of nodes in that class\n",
    "class_dict = defaultdict(set)\n",
    "\n",
    "for node, data in G.nodes(data=True):\n",
    "    class_dict[data['Class']].add(node)\n",
    "# Convert the values in the dictionary to a list to get the list of communities\n",
    "communities = list(class_dict.values())\n",
    "# Calculate modularity\n",
    "mod = quality.modularity(G, communities)\n",
    "\n",
    "# Calculate coverage\n",
    "cov = quality.coverage(G, communities)\n",
    "\n",
    "# Calculate performance\n",
    "perf = quality.performance(G, communities)\n",
    "\n",
    "# Calculate density\n",
    "den = avg_measure(G, communities, density_one_community)\n",
    "\n",
    "# Calculate separability\n",
    "sep = avg_measure(G, communities, separability_one_community)\n",
    "\n",
    "# raise NotImplementedError()"
   ]
  },
  {
   "cell_type": "code",
   "execution_count": 18,
   "metadata": {},
   "outputs": [
    {
     "data": {
      "text/html": [
       "<div>\n",
       "<style scoped>\n",
       "    .dataframe tbody tr th:only-of-type {\n",
       "        vertical-align: middle;\n",
       "    }\n",
       "\n",
       "    .dataframe tbody tr th {\n",
       "        vertical-align: top;\n",
       "    }\n",
       "\n",
       "    .dataframe thead th {\n",
       "        text-align: right;\n",
       "    }\n",
       "</style>\n",
       "<table border=\"1\" class=\"dataframe\">\n",
       "  <thead>\n",
       "    <tr style=\"text-align: right;\">\n",
       "      <th></th>\n",
       "      <th>num_community</th>\n",
       "      <th>modularity</th>\n",
       "      <th>coverage</th>\n",
       "      <th>performance</th>\n",
       "      <th>density</th>\n",
       "      <th>separability</th>\n",
       "    </tr>\n",
       "  </thead>\n",
       "  <tbody>\n",
       "    <tr>\n",
       "      <th>science_domain_partitions</th>\n",
       "      <td>4.0</td>\n",
       "      <td>0.39848</td>\n",
       "      <td>0.715206</td>\n",
       "      <td>0.742542</td>\n",
       "      <td>0.069375</td>\n",
       "      <td>1.140328</td>\n",
       "    </tr>\n",
       "  </tbody>\n",
       "</table>\n",
       "</div>"
      ],
      "text/plain": [
       "                           num_community  modularity  coverage  performance  \\\n",
       "science_domain_partitions            4.0     0.39848  0.715206     0.742542   \n",
       "\n",
       "                            density  separability  \n",
       "science_domain_partitions  0.069375      1.140328  "
      ]
     },
     "execution_count": 18,
     "metadata": {},
     "output_type": "execute_result"
    }
   ],
   "source": [
    "result = {}\n",
    "num_community = len(communities)\n",
    "modularity = mod\n",
    "coverage = cov\n",
    "performance = perf\n",
    "density = den\n",
    "separability = sep\n",
    "result['science_domain_partitions'] = [num_community,modularity,coverage,performance,density,separability]\n",
    "science_domain = pd.DataFrame(result).T\n",
    "science_domain.columns = ['num_community','modularity','coverage','performance','density','separability']\n",
    "science_domain"
   ]
  },
  {
   "cell_type": "code",
   "execution_count": 19,
   "metadata": {
    "deletable": false,
    "editable": false,
    "nbgrader": {
     "cell_type": "code",
     "checksum": "e697119e375a623bf39ea6ac5268e6bd",
     "grade": true,
     "grade_id": "cell-f4fa3f64ad9b4ef3",
     "locked": true,
     "points": 5,
     "schema_version": 3,
     "solution": false
    }
   },
   "outputs": [],
   "source": [
    "#hidden tests for Question 6 are within this cell"
   ]
  },
  {
   "cell_type": "markdown",
   "metadata": {
    "deletable": false,
    "editable": false,
    "nbgrader": {
     "cell_type": "markdown",
     "checksum": "cefa631f820b3b34885a727ca44f4378",
     "grade": false,
     "grade_id": "cell-18bced4b431138f5",
     "locked": true,
     "schema_version": 3,
     "solution": false
    }
   },
   "source": [
    "## Part 3. Community Detection Algorithms\n",
    "\n",
    "Now let's apply community detection algorithms to the Wikipedia graph. For this part, we will ignore the science domains since we are trying to find communities purely based on the structure of the network. \n",
    "\n",
    "We will begin with the Girvan-Newman algorithm and pick the partition that results in the largest modularity, as described in the lecture. Since computing this partition takes a long time, we have precomputed the communities in the notebook `Girvan-Newman.ipynb` (stored in the resources folder) and exported the partition to a pickle file. The pickle file is stored as `assets/answer/max_mod_community`. Note that you do not need to run the notebook `Girvan-Newman.ipynb` since we have already done it for you. We only provide it to you as a reference."
   ]
  },
  {
   "cell_type": "markdown",
   "metadata": {
    "deletable": false,
    "editable": false,
    "nbgrader": {
     "cell_type": "markdown",
     "checksum": "5f821e7e66cb9e31bc22aa0bb8d859d0",
     "grade": false,
     "grade_id": "cell-d40da06410c2c088",
     "locked": true,
     "schema_version": 3,
     "solution": false
    }
   },
   "source": [
    "### Q7. (1 point, Autograded) Load the partition from `assets/answer/max_mod_community`. How many communities are there in this partition?\n",
    "\n",
    "**Hint**:\n",
    "\n",
    "The partition is stored as a pickle file, which can be imported as the following example:\n",
    "```python\n",
    "with open(\"my_pickle_file_name\", 'rb') as f:\n",
    "    my_data = pickle.load(f)\n",
    "\n",
    "```"
   ]
  },
  {
   "cell_type": "code",
   "execution_count": 20,
   "metadata": {
    "deletable": false,
    "nbgrader": {
     "cell_type": "code",
     "checksum": "5061c107912043d9e19c2a64bf962672",
     "grade": false,
     "grade_id": "cell-d6ca32d0759c4f18",
     "locked": false,
     "schema_version": 3,
     "solution": true
    }
   },
   "outputs": [],
   "source": [
    "num_max_mod_communities = None  # number of communities in the partition with the largest modularity value\n",
    "\n",
    "# YOUR CODE HERE\n",
    "with open(\"assets/answer/max_mod_community\", 'rb') as f:\n",
    "    max_mod_communities = pickle.load(f)\n",
    "# Calculate the number of communities\n",
    "num_max_mod_communities = len(max_mod_communities)\n",
    "# raise NotImplementedError()"
   ]
  },
  {
   "cell_type": "code",
   "execution_count": 21,
   "metadata": {
    "deletable": false,
    "editable": false,
    "nbgrader": {
     "cell_type": "code",
     "checksum": "a2df5b2adc9ba9c23801ee7613cc8b44",
     "grade": true,
     "grade_id": "cell-5a0174bdc35868f0",
     "locked": true,
     "points": 1,
     "schema_version": 3,
     "solution": false
    }
   },
   "outputs": [],
   "source": [
    "#hidden tests for Question 7 are within this cell"
   ]
  },
  {
   "cell_type": "markdown",
   "metadata": {
    "deletable": false,
    "editable": false,
    "nbgrader": {
     "cell_type": "markdown",
     "checksum": "c594db34148ee286bf764019a7e727d9",
     "grade": false,
     "grade_id": "cell-62d6ddcfedf86948",
     "locked": true,
     "schema_version": 3,
     "solution": false
    }
   },
   "source": [
    "### Q8. (5 points, Autograded) What is the modularity, coverage, performance, density, and separability of this partition?"
   ]
  },
  {
   "cell_type": "code",
   "execution_count": 22,
   "metadata": {
    "deletable": false,
    "nbgrader": {
     "cell_type": "code",
     "checksum": "b6f6990ce4d232448ef55a646be691d1",
     "grade": false,
     "grade_id": "cell-fc5cb5b986edf5a5",
     "locked": false,
     "schema_version": 3,
     "solution": true
    }
   },
   "outputs": [],
   "source": [
    "mod = None   # modularity\n",
    "cov = None   # coverage\n",
    "perf = None  # performance\n",
    "den = None # density\n",
    "sep = None # separability\n",
    "\n",
    "\n",
    "# YOUR CODE HERE\n",
    "# Calculate modularity, coverage, performance, density, separability\n",
    "mod = quality.modularity(G, max_mod_communities)\n",
    "cov = quality.coverage(G, max_mod_communities)\n",
    "perf = quality.performance(G, max_mod_communities)\n",
    "den = avg_measure(G, max_mod_communities, density_one_community)\n",
    "sep = avg_measure(G, max_mod_communities, separability_one_community)\n",
    "# raise NotImplementedError()"
   ]
  },
  {
   "cell_type": "code",
   "execution_count": 23,
   "metadata": {
    "deletable": false,
    "editable": false,
    "nbgrader": {
     "cell_type": "code",
     "checksum": "0974fec7f5fbb02ac612e13aecd77bb0",
     "grade": true,
     "grade_id": "cell-d7bc7270a10d4774",
     "locked": true,
     "points": 5,
     "schema_version": 3,
     "solution": false
    }
   },
   "outputs": [],
   "source": [
    "#hidden tests for Question 8 are within this cell"
   ]
  },
  {
   "cell_type": "markdown",
   "metadata": {
    "deletable": false,
    "editable": false,
    "nbgrader": {
     "cell_type": "markdown",
     "checksum": "9e7207047feda8b9ec97b30350607f55",
     "grade": false,
     "grade_id": "cell-4df10783e053ee81",
     "locked": true,
     "schema_version": 3,
     "solution": false
    }
   },
   "source": [
    "### Q9. (12 points, Autograded) Find a partition of the network with the [label propagation algorithm](https://networkx.github.io/documentation/stable/reference/algorithms/generated/networkx.algorithms.community.label_propagation.label_propagation_communities.html) and compute the number of communities in the partition and its modularity, coverage, performance, denisty, and separability. This function uses semi-synchronous updating."
   ]
  },
  {
   "cell_type": "code",
   "execution_count": 24,
   "metadata": {
    "deletable": false,
    "nbgrader": {
     "cell_type": "code",
     "checksum": "8441bc9e465bd9a737305e7458ed5083",
     "grade": false,
     "grade_id": "cell-75922d6b2f0f5aac",
     "locked": false,
     "schema_version": 3,
     "solution": true
    }
   },
   "outputs": [],
   "source": [
    "num_community = None # number of communities in the partition\n",
    "mod = None   # modularity\n",
    "cov = None   # coverage\n",
    "perf = None  # performance\n",
    "den = None # density\n",
    "sep = None # separability\n",
    "\n",
    "from networkx.algorithms import community\n",
    "\n",
    "# Find a partition with the label propagation algorithm\n",
    "label_prop_communities = list(community.label_propagation_communities(G))\n",
    "num_community = len(label_prop_communities)\n",
    "# Calculate modularity, coverage, performance, density, separability\n",
    "mod = quality.modularity(G, label_prop_communities)\n",
    "cov = quality.coverage(G, label_prop_communities)\n",
    "perf = quality.performance(G, label_prop_communities)\n",
    "den = avg_measure(G, label_prop_communities, density_one_community)\n",
    "sep = avg_measure(G, label_prop_communities, separability_one_community)\n",
    "\n",
    "# YOUR CODE HERE\n",
    "# raise NotImplementedError()"
   ]
  },
  {
   "cell_type": "code",
   "execution_count": 25,
   "metadata": {
    "deletable": false,
    "editable": false,
    "nbgrader": {
     "cell_type": "code",
     "checksum": "c9cab440a4c7f69ea77d3d66a34a9529",
     "grade": true,
     "grade_id": "cell-8d79bde180c6b973",
     "locked": true,
     "points": 12,
     "schema_version": 3,
     "solution": false
    }
   },
   "outputs": [],
   "source": [
    "#hidden tests for Question 9 are within this cell"
   ]
  },
  {
   "cell_type": "markdown",
   "metadata": {
    "deletable": false,
    "editable": false,
    "nbgrader": {
     "cell_type": "markdown",
     "checksum": "021da89295395d0c3b1fa0ccd0963125",
     "grade": false,
     "grade_id": "cell-69fe9f539eb5cf7f",
     "locked": true,
     "schema_version": 3,
     "solution": false
    }
   },
   "source": [
    "The [Clauset-Newman-Moore greedy modularity maximization algorithm](https://networkx.github.io/documentation/stable/reference/algorithms/generated/networkx.algorithms.community.modularity_max.greedy_modularity_communities.html#networkx-algorithms-community-modularity-max-greedy-modularity-communities) implements an Agglomerative Hierarchical Clustering procedure to find a partition with high modularity. \n",
    "\n",
    "Note: the function `greedy_modularity_communities` returns a list of `Frozensets`, where each `Frozenset` is simply an immutable Python `set` object (i.e. the elements cannot be modified).\n",
    "\n"
   ]
  },
  {
   "cell_type": "markdown",
   "metadata": {
    "deletable": false,
    "editable": false,
    "nbgrader": {
     "cell_type": "markdown",
     "checksum": "f8bb60fb92728f469aa688f070b44838",
     "grade": false,
     "grade_id": "cell-e7000bd8a2e01505",
     "locked": true,
     "schema_version": 3,
     "solution": false
    }
   },
   "source": [
    "### Q10. (12 points, Autograded) Using Clauset-Newman-Moore greedy modularity maximization, find a partition of the network and compute the number of communities in the partition and its modularity, coverage, performance, density, and separability."
   ]
  },
  {
   "cell_type": "code",
   "execution_count": 26,
   "metadata": {
    "deletable": false,
    "nbgrader": {
     "cell_type": "code",
     "checksum": "c592e05b438f6ad6b449f6b229ab31b1",
     "grade": false,
     "grade_id": "cell-49faaeb89dc632d6",
     "locked": false,
     "schema_version": 3,
     "solution": true
    }
   },
   "outputs": [],
   "source": [
    "num_community = None # number of communities in the partition\n",
    "mod = None   # modularity\n",
    "cov = None   # coverage\n",
    "perf = None  # performance\n",
    "den = None # density\n",
    "sep = None # separability\n",
    "\n",
    "# YOUR CODE HERE\n",
    "# Use the Clauset-Newman-Moore greedy modularity maximization algorithm\n",
    "greedy_mod_communities = list(community.greedy_modularity_communities(G))\n",
    "# Compute the number of communities\n",
    "num_community = len(greedy_mod_communities)\n",
    "\n",
    "# Compute the modularity\n",
    "mod = quality.modularity(G, greedy_mod_communities)\n",
    "\n",
    "# Compute the coverage\n",
    "cov = quality.coverage(G, greedy_mod_communities)\n",
    "\n",
    "# Compute the performance\n",
    "perf = quality.performance(G, greedy_mod_communities)\n",
    "\n",
    "# Compute the density\n",
    "den = avg_measure(G, greedy_mod_communities, density_one_community)\n",
    "\n",
    "# Compute the separability\n",
    "sep = avg_measure(G, greedy_mod_communities, separability_one_community)\n",
    "# raise NotImplementedError()"
   ]
  },
  {
   "cell_type": "code",
   "execution_count": 27,
   "metadata": {
    "deletable": false,
    "editable": false,
    "nbgrader": {
     "cell_type": "code",
     "checksum": "021ed83b111da92ed5448f9970a9e86e",
     "grade": true,
     "grade_id": "cell-59d6f6bcb99c0ee0",
     "locked": true,
     "points": 12,
     "schema_version": 3,
     "solution": false
    }
   },
   "outputs": [],
   "source": [
    "#hidden tests for Question 10 are within this cell"
   ]
  },
  {
   "cell_type": "markdown",
   "metadata": {
    "deletable": false,
    "editable": false,
    "nbgrader": {
     "cell_type": "markdown",
     "checksum": "e3549db012f9b7e38e3262a285764d32",
     "grade": false,
     "grade_id": "cell-7a0dd12521157ecd",
     "locked": true,
     "schema_version": 3,
     "solution": false
    }
   },
   "source": [
    "### Q11. (6 points, Autograded) Using [asynchronous Fluid Communities algorithm](https://networkx.github.io/documentation/stable/reference/algorithms/generated/networkx.algorithms.community.asyn_fluid.asyn_fluidc.html#networkx.algorithms.community.asyn_fluid.asyn_fluidc) with parameters  `max_iter` = 100 and `seed` = 233 (see Tutorial for details), find the parameter `k` between `k`=3 and `k`=40 that maximizes the modularity of the partition. Note that `k` represents the number of communities in the partition. "
   ]
  },
  {
   "cell_type": "code",
   "execution_count": 28,
   "metadata": {
    "deletable": false,
    "nbgrader": {
     "cell_type": "code",
     "checksum": "8ee29329eb95b708bfaccfd5ffa4fee1",
     "grade": false,
     "grade_id": "cell-7cd46f451935efdc",
     "locked": false,
     "schema_version": 3,
     "solution": true
    }
   },
   "outputs": [],
   "source": [
    "best_k = None #optimal value of k\n",
    "fluid_communities = None #partition returned by the algorithm with k = best_k\n",
    "\n",
    "from networkx.algorithms.community import asyn_fluidc, modularity\n",
    "# Initialize best_modularity to a very low value\n",
    "best_modularity =-1\n",
    "\n",
    "# YOUR CODE HERE\n",
    "# Iterate over possible k values from 3 to 40\n",
    "for k in range(3, 41):\n",
    "    # Find communities using Fluid Communities algorithm\n",
    "    communities = list(asyn_fluidc(G, k, max_iter=100, seed=233))\n",
    "    \n",
    "    # Calculate modularity for current partition\n",
    "    current_modularity = modularity(G, communities)\n",
    "    \n",
    "    # If current modularity is better than best so far, update best_modularity, best_k and fluid_communities\n",
    "    if current_modularity > best_modularity:\n",
    "        best_modularity = current_modularity\n",
    "        best_k = k\n",
    "        fluid_communities = communities\n",
    "# raise NotImplementedError()"
   ]
  },
  {
   "cell_type": "code",
   "execution_count": 29,
   "metadata": {
    "deletable": false,
    "editable": false,
    "nbgrader": {
     "cell_type": "code",
     "checksum": "3b45b0d2422892fc9d4230378da19ad5",
     "grade": true,
     "grade_id": "cell-9356288c66026e35",
     "locked": true,
     "points": 6,
     "schema_version": 3,
     "solution": false
    }
   },
   "outputs": [],
   "source": [
    "#hidden tests for Question 11 are within this cell"
   ]
  },
  {
   "cell_type": "markdown",
   "metadata": {
    "deletable": false,
    "editable": false,
    "nbgrader": {
     "cell_type": "markdown",
     "checksum": "a35e6763ec94fc9af5a6479dd8e416d7",
     "grade": false,
     "grade_id": "cell-9331b7a0e5756e27",
     "locked": true,
     "schema_version": 3,
     "solution": false
    }
   },
   "source": [
    "### Q12. (6 points, Autograded) Using [asynchronous Fluid Communities algorithm](https://networkx.github.io/documentation/stable/reference/algorithms/generated/networkx.algorithms.community.asyn_fluid.asyn_fluidc.html#networkx.algorithms.community.asyn_fluid.asyn_fluidc) with parameters  `max_iter` = 100, `seed` = 233, and the value of `k` you found in the previous question, compute the number of communities in the partition and its modularity, coverage, performance, density, and separability."
   ]
  },
  {
   "cell_type": "code",
   "execution_count": 30,
   "metadata": {
    "deletable": false,
    "nbgrader": {
     "cell_type": "code",
     "checksum": "95745a344c048080a76a4253ecaa63b7",
     "grade": false,
     "grade_id": "cell-1a5b309324835ced",
     "locked": false,
     "schema_version": 3,
     "solution": true
    }
   },
   "outputs": [],
   "source": [
    "num_community = None # number of communities in the partition\n",
    "mod = None   # modularity\n",
    "cov = None   # coverage\n",
    "perf = None  # performance\n",
    "den = None # density\n",
    "sep = None # separability\n",
    "\n",
    "# Number of communities in the partition\n",
    "num_community = best_k\n",
    "\n",
    "# Calculate modularity\n",
    "mod = quality.modularity(G, fluid_communities)\n",
    "\n",
    "# Calculate coverage\n",
    "cov = quality.coverage(G, fluid_communities)\n",
    "\n",
    "# Calculate performance\n",
    "perf = quality.performance(G, fluid_communities)\n",
    "\n",
    "# Calculate density\n",
    "den = avg_measure(G, fluid_communities, density_one_community)\n",
    "\n",
    "# Calculate separability\n",
    "sep = avg_measure(G, fluid_communities, separability_one_community)\n",
    "\n",
    "# YOUR CODE HERE\n",
    "# raise NotImplementedError()"
   ]
  },
  {
   "cell_type": "code",
   "execution_count": 31,
   "metadata": {
    "deletable": false,
    "editable": false,
    "nbgrader": {
     "cell_type": "code",
     "checksum": "77e29b16d9178ad1724556e5663107f7",
     "grade": true,
     "grade_id": "cell-0f6f9cf331cbd6e6",
     "locked": true,
     "points": 6,
     "schema_version": 3,
     "solution": false
    }
   },
   "outputs": [],
   "source": [
    "#hidden tests for Question 12 are within this cell"
   ]
  },
  {
   "cell_type": "markdown",
   "metadata": {
    "deletable": false,
    "editable": false,
    "nbgrader": {
     "cell_type": "markdown",
     "checksum": "fffca74dd3369500c5b5ac04b7461367",
     "grade": false,
     "grade_id": "cell-f0ac3d16b8b01b02",
     "locked": true,
     "schema_version": 3,
     "solution": false
    }
   },
   "source": [
    "### Q13. (6 points, Autograded) Create and print a pandas DataFrame where each row represents a community detection algorithm and each column is a quality measure, as described by the following scheme:\n",
    "\n",
    "\n",
    "|.|Method name|num_community|modularity|coverage|performance|density|separability|\n",
    "|-|-|-|-|-|-|-|-|\n",
    "|0|Girvan–Newman|\n",
    "|1|Greedy modularity maximization|\n",
    "|2|Fluid Communities|\n",
    "|3|Label propogation|\n"
   ]
  },
  {
   "cell_type": "code",
   "execution_count": 32,
   "metadata": {
    "deletable": false,
    "nbgrader": {
     "cell_type": "code",
     "checksum": "9800cf920b9418debbae4baddfd9c07c",
     "grade": false,
     "grade_id": "cell-a45fabf083ba143c",
     "locked": false,
     "schema_version": 3,
     "solution": true
    }
   },
   "outputs": [
    {
     "data": {
      "text/html": [
       "<div>\n",
       "<style scoped>\n",
       "    .dataframe tbody tr th:only-of-type {\n",
       "        vertical-align: middle;\n",
       "    }\n",
       "\n",
       "    .dataframe tbody tr th {\n",
       "        vertical-align: top;\n",
       "    }\n",
       "\n",
       "    .dataframe thead th {\n",
       "        text-align: right;\n",
       "    }\n",
       "</style>\n",
       "<table border=\"1\" class=\"dataframe\">\n",
       "  <thead>\n",
       "    <tr style=\"text-align: right;\">\n",
       "      <th></th>\n",
       "      <th>Method name</th>\n",
       "      <th>num_community</th>\n",
       "      <th>modularity</th>\n",
       "      <th>coverage</th>\n",
       "      <th>performance</th>\n",
       "      <th>density</th>\n",
       "      <th>separability</th>\n",
       "    </tr>\n",
       "  </thead>\n",
       "  <tbody>\n",
       "    <tr>\n",
       "      <th>0</th>\n",
       "      <td>Girvan-Newman</td>\n",
       "      <td>35</td>\n",
       "      <td>0.580687</td>\n",
       "      <td>0.815252</td>\n",
       "      <td>0.888706</td>\n",
       "      <td>0.654218</td>\n",
       "      <td>1.079485</td>\n",
       "    </tr>\n",
       "    <tr>\n",
       "      <th>1</th>\n",
       "      <td>Greedy modularity maximization</td>\n",
       "      <td>14</td>\n",
       "      <td>0.550356</td>\n",
       "      <td>0.805892</td>\n",
       "      <td>0.775095</td>\n",
       "      <td>0.608520</td>\n",
       "      <td>1.480856</td>\n",
       "    </tr>\n",
       "    <tr>\n",
       "      <th>2</th>\n",
       "      <td>Fluid Communities</td>\n",
       "      <td>11</td>\n",
       "      <td>0.590856</td>\n",
       "      <td>0.728249</td>\n",
       "      <td>0.915128</td>\n",
       "      <td>0.211423</td>\n",
       "      <td>1.374656</td>\n",
       "    </tr>\n",
       "    <tr>\n",
       "      <th>3</th>\n",
       "      <td>Label propogation</td>\n",
       "      <td>28</td>\n",
       "      <td>0.584188</td>\n",
       "      <td>0.808808</td>\n",
       "      <td>0.857888</td>\n",
       "      <td>0.618999</td>\n",
       "      <td>1.285533</td>\n",
       "    </tr>\n",
       "  </tbody>\n",
       "</table>\n",
       "</div>"
      ],
      "text/plain": [
       "                      Method name  num_community  modularity  coverage  \\\n",
       "0                   Girvan-Newman             35    0.580687  0.815252   \n",
       "1  Greedy modularity maximization             14    0.550356  0.805892   \n",
       "2               Fluid Communities             11    0.590856  0.728249   \n",
       "3               Label propogation             28    0.584188  0.808808   \n",
       "\n",
       "   performance   density  separability  \n",
       "0     0.888706  0.654218      1.079485  \n",
       "1     0.775095  0.608520      1.480856  \n",
       "2     0.915128  0.211423      1.374656  \n",
       "3     0.857888  0.618999      1.285533  "
      ]
     },
     "execution_count": 32,
     "metadata": {},
     "output_type": "execute_result"
    }
   ],
   "source": [
    "compare = None # assign your pandas dataframe here\n",
    "# result = {}\n",
    "# num_community = len(max_mod_communities)\n",
    "# modularity = quality.modularity(G, max_mod_communities)\n",
    "# coverage = quality.coverage(G, max_mod_communities)\n",
    "# performance = quality.performance(G, max_mod_communities)\n",
    "# density = avg_measure(G, max_mod_communities, density_one_community)\n",
    "# separability = avg_measure(G, max_mod_communities, separability_one_community)\n",
    "# result['Girvan-Newman'] = [num_community,modularity,coverage,performance,density,separability]\n",
    "\n",
    "# #####\n",
    "\n",
    "# greedy_mod_communities = list(community.greedy_modularity_communities(G))\n",
    "# num_community = len(greedy_mod_communities)\n",
    "# modularity = quality.modularity(G, greedy_mod_communities)\n",
    "# coverage = quality.coverage(G, greedy_mod_communities)\n",
    "# performance = quality.performance(G, greedy_mod_communities)\n",
    "# density = avg_measure(G, greedy_mod_communities, density_one_community)\n",
    "# separability = avg_measure(G, greedy_mod_communities, separability_one_community)\n",
    "# result['Greedy modularity maximization'] = [num_community,modularity,coverage,performance,density,separability]\n",
    "\n",
    "# #####\n",
    "\n",
    "# num_community = best_k\n",
    "# modularity = quality.modularity(G, fluid_communities)\n",
    "# coverage = quality.coverage(G, fluid_communities)\n",
    "# performance = quality.performance(G, fluid_communities)\n",
    "# density = avg_measure(G, fluid_communities, density_one_community)\n",
    "# separability = avg_measure(G, fluid_communities, separability_one_community)\n",
    "# result['Fluid Communities'] = [num_community,modularity,coverage,performance,density,separability]\n",
    "\n",
    "# #####\n",
    "\n",
    "# label_prop_communities = list(community.label_propagation_communities(G))\n",
    "# num_community = len(label_prop_communities)\n",
    "# modularity = quality.modularity(G, label_prop_communities)\n",
    "# coverage = quality.coverage(G, label_prop_communities)\n",
    "# performance = quality.performance(G, label_prop_communities)\n",
    "# density = avg_measure(G, label_prop_communities, density_one_community)\n",
    "# separability = avg_measure(G, label_prop_communities, separability_one_community)\n",
    "# result['Label propogation'] = [num_community,modularity,coverage,performance,density,separability]\n",
    "\n",
    "# compare = pd.DataFrame(result).T.reset_index().rename(columns = {'index':'Method name',0:'num_community'\\\n",
    "#                                                        ,1:'modularity',2:'coverage',3:'performance',4:'density'\\\n",
    "#                                                       ,5:'separability'})\n",
    "\n",
    "algorithms = {\n",
    "    'Girvan-Newman': max_mod_communities,\n",
    "    'Greedy modularity maximization': greedy_mod_communities,\n",
    "    'Fluid Communities': fluid_communities,\n",
    "    'Label propogation': label_prop_communities\n",
    "}\n",
    "\n",
    "metrics = ['num_community', 'modularity', 'coverage', 'performance', 'density', 'separability']\n",
    "result = {}\n",
    "\n",
    "for algorithm, communities in algorithms.items():\n",
    "    num_community = len(communities)\n",
    "    modularity = quality.modularity(G, communities)\n",
    "    coverage = quality.coverage(G, communities)\n",
    "    performance = quality.performance(G, communities)\n",
    "    density = avg_measure(G, communities, density_one_community)\n",
    "    separability = avg_measure(G, communities, separability_one_community)\n",
    "    result[algorithm] = [num_community, modularity, coverage, performance, density, separability]\n",
    "\n",
    "compare = pd.DataFrame.from_dict(result, orient='index', columns=metrics).reset_index().rename(columns={'index': 'Method name'})\n",
    "\n",
    "compare"
   ]
  },
  {
   "cell_type": "code",
   "execution_count": 33,
   "metadata": {
    "deletable": false,
    "editable": false,
    "nbgrader": {
     "cell_type": "code",
     "checksum": "908c4bbe7f26533499384e7f8c5c5ed4",
     "grade": true,
     "grade_id": "cell-ea269623450c94f4",
     "locked": true,
     "points": 6,
     "schema_version": 3,
     "solution": false
    }
   },
   "outputs": [],
   "source": [
    "#hidden tests for Question 13 are within this cell"
   ]
  },
  {
   "cell_type": "markdown",
   "metadata": {
    "deletable": false,
    "editable": false,
    "nbgrader": {
     "cell_type": "markdown",
     "checksum": "4bcdb81e96e0a7b51d6b75683c595f4a",
     "grade": false,
     "grade_id": "cell-3e7fdad72bd41fd6",
     "locked": true,
     "schema_version": 3,
     "solution": false
    }
   },
   "source": [
    "### Q14. (10 points, Manually graded) Does it appear that an algorithm consistently performs better than the others across the different quality measures? Explain. \n",
    "\n",
    "You do not need to explain your answer based on the details of the algorithms or quality measures. Do so only based on the quality scores on the dataframe in Q13. \n",
    "\n",
    "You should not consider the number of communities to answer this question. \n",
    "\n"
   ]
  },
  {
   "cell_type": "markdown",
   "metadata": {
    "deletable": false,
    "nbgrader": {
     "cell_type": "markdown",
     "checksum": "4ddbe2675302d25a8fd489f197768e6c",
     "grade": true,
     "grade_id": "cell-57457d844839cd0b",
     "locked": false,
     "points": 0,
     "schema_version": 3,
     "solution": true
    }
   },
   "source": [
    "Based on the quality scores in the compare dataframe, it does not appear that one algorithm consistently performs better than the others across all the quality measures.\n",
    "\n",
    "Looking at the scores for modularity, coverage, performance, density, and separability, we can see that different algorithms have higher values in different measures. For example, the Girvan-Newman algorithm has the highest coverage score, while the Fluid Communities algorithm has the highest modularity and performance scores. The Greedy modularity maximization algorithm has the highest separability score.\n",
    "\n",
    "This indicates that each algorithm has its strengths and weaknesses in terms of different quality measures. The choice of the best algorithm may depend on the specific measure that is considered most important for the given analysis or application.\n",
    "\n",
    "Therefore, based on the quality scores in the DataFrame, it does not seem that one algorithm consistently outperforms the others across all the quality measures."
   ]
  },
  {
   "cell_type": "code",
   "execution_count": 34,
   "metadata": {},
   "outputs": [
    {
     "data": {
      "text/html": [
       "<div>\n",
       "<style scoped>\n",
       "    .dataframe tbody tr th:only-of-type {\n",
       "        vertical-align: middle;\n",
       "    }\n",
       "\n",
       "    .dataframe tbody tr th {\n",
       "        vertical-align: top;\n",
       "    }\n",
       "\n",
       "    .dataframe thead th {\n",
       "        text-align: right;\n",
       "    }\n",
       "</style>\n",
       "<table border=\"1\" class=\"dataframe\">\n",
       "  <thead>\n",
       "    <tr style=\"text-align: right;\">\n",
       "      <th></th>\n",
       "      <th>num_community</th>\n",
       "      <th>modularity</th>\n",
       "      <th>coverage</th>\n",
       "      <th>performance</th>\n",
       "      <th>density</th>\n",
       "      <th>separability</th>\n",
       "    </tr>\n",
       "  </thead>\n",
       "  <tbody>\n",
       "    <tr>\n",
       "      <th>science_domain_partitions</th>\n",
       "      <td>4.0</td>\n",
       "      <td>0.39848</td>\n",
       "      <td>0.715206</td>\n",
       "      <td>0.742542</td>\n",
       "      <td>0.069375</td>\n",
       "      <td>1.140328</td>\n",
       "    </tr>\n",
       "  </tbody>\n",
       "</table>\n",
       "</div>"
      ],
      "text/plain": [
       "                           num_community  modularity  coverage  performance  \\\n",
       "science_domain_partitions            4.0     0.39848  0.715206     0.742542   \n",
       "\n",
       "                            density  separability  \n",
       "science_domain_partitions  0.069375      1.140328  "
      ]
     },
     "execution_count": 34,
     "metadata": {},
     "output_type": "execute_result"
    }
   ],
   "source": [
    "science_domain"
   ]
  },
  {
   "cell_type": "markdown",
   "metadata": {
    "deletable": false,
    "editable": false,
    "nbgrader": {
     "cell_type": "markdown",
     "checksum": "1fdfe8a6912dec45c51687b145efc6e8",
     "grade": false,
     "grade_id": "cell-e056597e960954cc",
     "locked": true,
     "schema_version": 3,
     "solution": false
    }
   },
   "source": [
    "### Q15. (10 points, Manually graded) Comparing the quality of the partition based on the science domain with that of the partitions generated by the various algorithms, from a network structure perspective, does the science domain appear to be a good way to partition the network into communities? Explain.\n",
    "\n",
    "Recall that you already computed the quality of the partition based on science domain in Q6. Be sure to use those results when answering this question. \n",
    "\n",
    "You should not consider the number of communities to determine if a partition is \"good.\" For this question, focus on the quality scores. "
   ]
  },
  {
   "cell_type": "markdown",
   "metadata": {
    "deletable": false,
    "nbgrader": {
     "cell_type": "markdown",
     "checksum": "9945e939b7e0f6a738cd24306ed4d8cf",
     "grade": true,
     "grade_id": "cell-d7eeec6049d87c6b",
     "locked": false,
     "points": 0,
     "schema_version": 3,
     "solution": true
    }
   },
   "source": [
    "Based on the data we observe that for different quality measures such as coverage, performance, density, and separability,the partitions generated by the algorithms consistently have higher scores compared to the science domain partition.\n",
    "\n",
    "Therefore, science domain partition may not be the most effective way to partition the network into communities from a network structure perspective. The partitions generated by the algorithms consistently demonstrate higher quality scores across multiple measures compared to the science domain partition."
   ]
  },
  {
   "cell_type": "markdown",
   "metadata": {
    "deletable": false,
    "editable": false,
    "nbgrader": {
     "cell_type": "markdown",
     "checksum": "08c0aaa2d963ea92c2dbbe8180900dd0",
     "grade": false,
     "grade_id": "cell-99834e8574b591eb",
     "locked": true,
     "schema_version": 3,
     "solution": false
    }
   },
   "source": [
    "# End"
   ]
  }
 ],
 "metadata": {
  "kernelspec": {
   "display_name": "Python 3 (ipykernel)",
   "language": "python",
   "name": "python3"
  },
  "language_info": {
   "codemirror_mode": {
    "name": "ipython",
    "version": 3
   },
   "file_extension": ".py",
   "mimetype": "text/x-python",
   "name": "python",
   "nbconvert_exporter": "python",
   "pygments_lexer": "ipython3",
   "version": "3.9.13"
  }
 },
 "nbformat": 4,
 "nbformat_minor": 4
}
